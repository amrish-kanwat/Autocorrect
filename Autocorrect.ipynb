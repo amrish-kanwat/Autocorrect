{
 "cells": [
  {
   "cell_type": "code",
   "execution_count": null,
   "id": "b236e176-d843-4b35-bbfa-4147a2e05703",
   "metadata": {},
   "outputs": [],
   "source": [
    "import numpy as np"
   ]
  },
  {
   "cell_type": "code",
   "execution_count": null,
   "id": "5a9ec3c0-bb79-4921-9c85-be581b1a306f",
   "metadata": {},
   "outputs": [],
   "source": [
    "def auto_correct(word, word_list):\n",
    "    \"\"\"\n",
    "    Auto-corrects the given word based on a list of words.\n",
    "    \n",
    "    Args:\n",
    "    word (str): The word to be corrected.\n",
    "    word_list (list): A list of words to compare against.\n",
    "    \n",
    "    Returns:\n",
    "    str: The corrected word or the nearest word in the word list.\n",
    "    \"\"\"\n",
    "    word = word.lower()\n",
    "    \n",
    "    if word in word_list:\n",
    "        return word\n",
    "    \n",
    "    # Calculate the Levenshtein distance between the word and each word in the word list\n",
    "    distances = np.zeros(len(word_list))\n",
    "    for i, w in enumerate(word_list):\n",
    "        distances[i] = levenshtein_distance(word, w.lower())\n",
    "    \n",
    "    # Find the index of the word with the minimum distance\n",
    "    min_distance_idx = np.argmin(distances)\n",
    "    \n",
    "    return word_list[min_distance_idx]"
   ]
  },
  {
   "cell_type": "code",
   "execution_count": null,
   "id": "92bf8ccf-df4c-4503-8a61-29bc64057ae5",
   "metadata": {},
   "outputs": [],
   "source": [
    "def levenshtein_distance(word1, word2):\n",
    "    \"\"\"\n",
    "    Calculates the Levenshtein distance between two words.\n",
    "    \n",
    "    Args:\n",
    "    word1 (str): The first word.\n",
    "    word2 (str): The second word.\n",
    "    \n",
    "    Returns:\n",
    "    int: The Levenshtein distance between the two words.\n",
    "    \"\"\"\n",
    "    m = len(word1)\n",
    "    n = len(word2)\n",
    "    \n",
    "    # Create a matrix to store the distances\n",
    "    dp = np.zeros((m+1, n+1))\n",
    "    \n",
    "    # Initialize the first row and column\n",
    "    for i in range(m+1):\n",
    "        dp[i, 0] = i\n",
    "    for j in range(n+1):\n",
    "        dp[0, j] = j\n",
    "        \n",
    "         # Calculate the distances\n",
    "    for i in range(1, m+1):\n",
    "        for j in range(1, n+1):\n",
    "            if word1[i-1] == word2[j-1]:\n",
    "                dp[i, j] = dp[i-1, j-1]\n",
    "            else:\n",
    "                dp[i, j] = min(dp[i-1, j], dp[i, j-1], dp[i-1, j-1]) + 1\n",
    "    \n",
    "    return dp[m, n]"
   ]
  },
  {
   "cell_type": "code",
   "execution_count": null,
   "id": "3cc83861-e1bd-4e4a-8d6d-b1840c24e539",
   "metadata": {},
   "outputs": [],
   "source": [
    "# Word list for testing\n",
    "word_list = ['apple', 'banana', 'cherry', 'durian', 'grape', 'lemon', 'mango', 'orange', 'hello', 'movie', q]\n",
    "\n",
    "while True:\n",
    "    # Get user input\n",
    "    word = input(\"Enter a word (or 'q' to quit): \")\n",
    "    \n",
    "    if word == 'q':\n",
    "        break\n",
    "    \n",
    "    # Perform auto-correction\n",
    "    corrected_word = auto_correct(word, word_list)\n",
    "    \n",
    "    # Print the result\n",
    "    if corrected_word == word:\n",
    "        print(\"No correction needed.\")\n",
    "    else:\n",
    "        print(f\"Did you mean '{corrected_word}'?\")"
   ]
  }
 ],
 "metadata": {
  "kernelspec": {
   "display_name": "anaconda-panel-2023.05-py310",
   "language": "python",
   "name": "conda-env-anaconda-panel-2023.05-py310-py"
  },
  "language_info": {
   "codemirror_mode": {
    "name": "ipython",
    "version": 3
   },
   "file_extension": ".py",
   "mimetype": "text/x-python",
   "name": "python",
   "nbconvert_exporter": "python",
   "pygments_lexer": "ipython3",
   "version": "3.11.3"
  }
 },
 "nbformat": 4,
 "nbformat_minor": 5
}
