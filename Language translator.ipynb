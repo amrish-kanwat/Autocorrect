{
 "cells": [
  {
   "cell_type": "code",
   "execution_count": 6,
   "metadata": {},
   "outputs": [],
   "source": [
    "from tkinter import *\n",
    "from tkinter import GROOVE, Label, Place, Tk, ttk, messagebox\n",
    "import googletrans\n",
    "from googletrans import Translator\n"
   ]
  },
  {
   "cell_type": "code",
   "execution_count": 7,
   "metadata": {},
   "outputs": [],
   "source": [
    "root=Tk()\n",
    "root.title(\"Google Translator 2.0\")\n",
    "root.geometry(\"1080x400\")\n",
    "root.resizable(False,False)\n",
    "root.configure(background=\"white\")\n"
   ]
  },
  {
   "cell_type": "code",
   "execution_count": 8,
   "metadata": {},
   "outputs": [],
   "source": [
    "def label_change():\n",
    "    c=combo1.get()\n",
    "    c1=combo2.get()\n",
    "    label1.configure(text=c)\n",
    "    label2.configure(text=c1)\n",
    "    root.after(1000,label_change)\n",
    "\n",
    "def translate_now():\n",
    "    text_=text1.get(1.0,END)\n",
    "    t1=Translator()\n",
    "    trans_text=t1.translate(text_,src=combo1.get(),dest=combo2.get())\n",
    "    trans_text=trans_text.text\n",
    "\n",
    "    text2.delete(1.0,END)\n",
    "    text2.insert(END,trans_text)\n",
    "\n",
    "\n",
    " \n",
    "language=googletrans.LANGUAGES\n",
    "languageV=list(language.values())\n",
    "lang1=language.keys()\n",
    "\n",
    "\n",
    "\n",
    "#first combobox\n",
    "combo1=ttk.Combobox(root,values=languageV,font=\"Roboto 14\",state=\"r\")\n",
    "combo1.place(x=110,y=20)\n",
    "combo1.set(\"ENGLISH\")\n",
    "\n",
    "label1=Label(root,text=\"ENGLISH\",font=\"segoe 30 bold\",bg=\"white\",width=18,bd=5,relief=GROOVE)\n",
    "label1.place(x=10,y=50)\n",
    "\n",
    "\n",
    "#second combobox\n",
    "combo2=ttk.Combobox(root,values=languageV,font=\"Roboto 14\",state=\"r\")\n",
    "combo2.place(x=730,y=20)\n",
    "combo2.set(\"ENGLISH\")\n",
    "\n",
    "label2=Label(root,text=\"ENGLISH\",font=\"segoe 30 bold\",bg=\"white\",width=18,bd=5,relief=GROOVE)\n",
    "label2.place(x=620,y=50)"
   ]
  },
  {
   "cell_type": "code",
   "execution_count": 9,
   "metadata": {},
   "outputs": [],
   "source": [
    "\n",
    "\n",
    "#first frame\n",
    "f=Frame(root,bg=\"Black\",bd=5)\n",
    "f.place(x=10,y=118,width=440,height=210)\n",
    "\n",
    "text1=Text(f,font=\"Robote 20\",bg=\"white\",relief=GROOVE,wrap=WORD)\n",
    "text1.place(x=0,y=0,width=430,height=200)\n",
    "\n",
    "scrollbar1=Scrollbar(f)\n",
    "scrollbar1.pack(side=\"right\",fill='y')\n",
    "\n",
    "scrollbar1.configure(command=text1.yview)\n",
    "text1.configure(yscrollcommand=scrollbar1.set)\n",
    "\n",
    "  \n",
    "#second frame\n",
    "f1=Frame(root,bg=\"Black\",bd=5)\n",
    "f1.place(x=620,y=118,width=440,height=210)\n",
    "\n",
    "text2=Text(f1,font=\"Robote 20\",bg=\"white\",relief=GROOVE,wrap=WORD)\n",
    "text2.place(x=0,y=0,width=430,height=200)\n",
    "\n",
    "scrollbar2=Scrollbar(f1)\n",
    "scrollbar1.pack(side=\"right\",fill='y')\n",
    "\n",
    "scrollbar2.configure(command=text2.yview)\n",
    "text2.configure(yscrollcommand=scrollbar2.set)\n",
    "\n"
   ]
  },
  {
   "cell_type": "code",
   "execution_count": 10,
   "metadata": {},
   "outputs": [],
   "source": [
    "#translate button\n",
    "translate=Button(root,text=\"Translate\",font=(\"Roboto\",15),activebackground=\"white\", cursor=\"hand2\",bd=1,width=10,height=2,bg=\"black\",fg=\"white\",command=translate_now)\n",
    "translate.place(x=476,y=250)\n",
    "\n",
    "label_change()\n",
    "\n",
    "root.mainloop()"
   ]
  }
 ],
 "metadata": {
  "kernelspec": {
   "display_name": "Python 3.8.8 64-bit",
   "language": "python",
   "name": "python3"
  },
  "language_info": {
   "codemirror_mode": {
    "name": "ipython",
    "version": 3
   },
   "file_extension": ".py",
   "mimetype": "text/x-python",
   "name": "python",
   "nbconvert_exporter": "python",
   "pygments_lexer": "ipython3",
   "version": "3.8.8"
  },
  "orig_nbformat": 4,
  "vscode": {
   "interpreter": {
    "hash": "2f3b39966db89aed5d538b308ab62a17b25014767a30e2037d6da495cdcf3f23"
   }
  }
 },
 "nbformat": 4,
 "nbformat_minor": 2
}
